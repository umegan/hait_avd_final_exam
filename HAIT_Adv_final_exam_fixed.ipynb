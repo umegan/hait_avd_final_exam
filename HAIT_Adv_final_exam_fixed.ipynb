{
  "nbformat": 4,
  "nbformat_minor": 5,
  "metadata": {
    "kernelspec": {
      "display_name": "Python 3 (ipykernel)",
      "language": "python",
      "name": "python3"
    },
    "language_info": {
      "codemirror_mode": {
        "name": "ipython",
        "version": 3
      },
      "file_extension": ".py",
      "mimetype": "text/x-python",
      "name": "python",
      "nbconvert_exporter": "python",
      "pygments_lexer": "ipython3",
      "version": "3.8.5-final"
    },
    "colab": {
      "name": "HAIT_Adv_final_exam.ipynb",
      "provenance": [],
      "collapsed_sections": []
    }
  },
  "cells": [
    {
      "cell_type": "markdown",
      "metadata": {
        "id": "6f0ee995"
      },
      "source": [
        "# Advancedコース卒業試験\n",
        "\n",
        "## 課題\n",
        "あなたは以下の案件でお客さんから以下のタスクが技術的に可能かどうか検証して欲しいと依頼を受けました。実際にモデルを組んで分析した上で、検証結果をテキストでまとめてください。\n",
        "テキストはコードを書いたnotebookにmarkdown形式で記入し、コードと併せて提出してください。\n",
        "\n",
        "**案件：米国の各郡の様々なデータから、その郡におけるがん死亡率を予測するモデルを作成したい。\n",
        "ただし、最小二乗誤差基準のCVEをできるだけ小さくなるようにしたい。**\n",
        "\n",
        "対象データ:https://data.world/nrippner/ols-regression-challenge<br>\n",
        "**目標:CVE<0.5<br>**\n",
        "**合格:CVE<0.506<br>**"
      ],
      "id": "6f0ee995"
    },
    {
      "cell_type": "code",
      "metadata": {
        "id": "f430bf91"
      },
      "source": [
        "#データの読み込み\n",
        "import numpy as np\n",
        "import pandas as pd\n",
        "df = pd.read_csv('https://query.data.world/s/kx7k73w2jlzaohyfbm7rzxhqj4j4an',encoding='iso-8859-1')\n",
        "pd.set_option('display.max_columns', None)"
      ],
      "id": "f430bf91",
      "execution_count": 1,
      "outputs": []
    },
    {
      "cell_type": "code",
      "metadata": {
        "id": "29Xy7EdGJEKg"
      },
      "source": [
        "import matplotlib_inline as plt\n",
        "import numpy"
      ],
      "id": "29Xy7EdGJEKg",
      "execution_count": 2,
      "outputs": []
    },
    {
      "cell_type": "code",
      "metadata": {
        "colab": {
          "base_uri": "https://localhost:8080/"
        },
        "id": "cN4mpAdHt29J",
        "outputId": "57763e66-1786-446c-8ca3-ecf693f72d2b"
      },
      "source": [
        "len(df)"
      ],
      "id": "cN4mpAdHt29J",
      "execution_count": 3,
      "outputs": [
        {
          "output_type": "execute_result",
          "data": {
            "text/plain": [
              "3047"
            ]
          },
          "metadata": {},
          "execution_count": 3
        }
      ]
    },
    {
      "cell_type": "code",
      "metadata": {
        "colab": {
          "base_uri": "https://localhost:8080/",
          "height": 394
        },
        "id": "ce966008",
        "outputId": "9c338cff-e566-4b8f-a187-d879d3148d2b"
      },
      "source": [
        "df.head()"
      ],
      "id": "ce966008",
      "execution_count": 4,
      "outputs": [
        {
          "output_type": "execute_result",
          "data": {
            "text/plain": [
              "   avgAnnCount  avgDeathsPerYear  TARGET_deathRate  incidenceRate  medIncome  \\\n",
              "0       1397.0               469             164.9          489.8      61898   \n",
              "1        173.0                70             161.3          411.6      48127   \n",
              "2        102.0                50             174.7          349.7      49348   \n",
              "3        427.0               202             194.8          430.4      44243   \n",
              "4         57.0                26             144.4          350.1      49955   \n",
              "\n",
              "   popEst2015  povertyPercent  studyPerCap           binnedInc  MedianAge  \\\n",
              "0      260131            11.2   499.748204   (61494.5, 125635]       39.3   \n",
              "1       43269            18.6    23.111234  (48021.6, 51046.4]       33.0   \n",
              "2       21026            14.6    47.560164  (48021.6, 51046.4]       45.0   \n",
              "3       75882            17.1   342.637253    (42724.4, 45201]       42.8   \n",
              "4       10321            12.5     0.000000  (48021.6, 51046.4]       48.3   \n",
              "\n",
              "   MedianAgeMale  MedianAgeFemale                     Geography  \\\n",
              "0           36.9             41.7     Kitsap County, Washington   \n",
              "1           32.2             33.7   Kittitas County, Washington   \n",
              "2           44.0             45.8  Klickitat County, Washington   \n",
              "3           42.2             43.4      Lewis County, Washington   \n",
              "4           47.8             48.9    Lincoln County, Washington   \n",
              "\n",
              "   AvgHouseholdSize  PercentMarried  PctNoHS18_24  PctHS18_24  \\\n",
              "0              2.54            52.5          11.5        39.5   \n",
              "1              2.34            44.5           6.1        22.4   \n",
              "2              2.62            54.2          24.0        36.6   \n",
              "3              2.52            52.7          20.2        41.2   \n",
              "4              2.34            57.8          14.9        43.0   \n",
              "\n",
              "   PctSomeCol18_24  PctBachDeg18_24  PctHS25_Over  PctBachDeg25_Over  \\\n",
              "0             42.1              6.9          23.2               19.6   \n",
              "1             64.0              7.5          26.0               22.7   \n",
              "2              NaN              9.5          29.0               16.0   \n",
              "3             36.1              2.5          31.6                9.3   \n",
              "4             40.0              2.0          33.4               15.0   \n",
              "\n",
              "   PctEmployed16_Over  PctUnemployed16_Over  PctPrivateCoverage  \\\n",
              "0                51.9                   8.0                75.1   \n",
              "1                55.9                   7.8                70.2   \n",
              "2                45.9                   7.0                63.7   \n",
              "3                48.3                  12.1                58.4   \n",
              "4                48.2                   4.8                61.6   \n",
              "\n",
              "   PctPrivateCoverageAlone  PctEmpPrivCoverage  PctPublicCoverage  \\\n",
              "0                      NaN                41.6               32.9   \n",
              "1                     53.8                43.6               31.1   \n",
              "2                     43.5                34.9               42.1   \n",
              "3                     40.3                35.0               45.3   \n",
              "4                     43.9                35.1               44.0   \n",
              "\n",
              "   PctPublicCoverageAlone   PctWhite  PctBlack  PctAsian  PctOtherRace  \\\n",
              "0                    14.0  81.780529  2.594728  4.821857      1.843479   \n",
              "1                    15.3  89.228509  0.969102  2.246233      3.741352   \n",
              "2                    21.1  90.922190  0.739673  0.465898      2.747358   \n",
              "3                    25.0  91.744686  0.782626  1.161359      1.362643   \n",
              "4                    22.7  94.104024  0.270192  0.665830      0.492135   \n",
              "\n",
              "   PctMarriedHouseholds  BirthRate  \n",
              "0             52.856076   6.118831  \n",
              "1             45.372500   4.333096  \n",
              "2             54.444868   3.729488  \n",
              "3             51.021514   4.603841  \n",
              "4             54.027460   6.796657  "
            ],
            "text/html": "<div>\n<style scoped>\n    .dataframe tbody tr th:only-of-type {\n        vertical-align: middle;\n    }\n\n    .dataframe tbody tr th {\n        vertical-align: top;\n    }\n\n    .dataframe thead th {\n        text-align: right;\n    }\n</style>\n<table border=\"1\" class=\"dataframe\">\n  <thead>\n    <tr style=\"text-align: right;\">\n      <th></th>\n      <th>avgAnnCount</th>\n      <th>avgDeathsPerYear</th>\n      <th>TARGET_deathRate</th>\n      <th>incidenceRate</th>\n      <th>medIncome</th>\n      <th>popEst2015</th>\n      <th>povertyPercent</th>\n      <th>studyPerCap</th>\n      <th>binnedInc</th>\n      <th>MedianAge</th>\n      <th>MedianAgeMale</th>\n      <th>MedianAgeFemale</th>\n      <th>Geography</th>\n      <th>AvgHouseholdSize</th>\n      <th>PercentMarried</th>\n      <th>PctNoHS18_24</th>\n      <th>PctHS18_24</th>\n      <th>PctSomeCol18_24</th>\n      <th>PctBachDeg18_24</th>\n      <th>PctHS25_Over</th>\n      <th>PctBachDeg25_Over</th>\n      <th>PctEmployed16_Over</th>\n      <th>PctUnemployed16_Over</th>\n      <th>PctPrivateCoverage</th>\n      <th>PctPrivateCoverageAlone</th>\n      <th>PctEmpPrivCoverage</th>\n      <th>PctPublicCoverage</th>\n      <th>PctPublicCoverageAlone</th>\n      <th>PctWhite</th>\n      <th>PctBlack</th>\n      <th>PctAsian</th>\n      <th>PctOtherRace</th>\n      <th>PctMarriedHouseholds</th>\n      <th>BirthRate</th>\n    </tr>\n  </thead>\n  <tbody>\n    <tr>\n      <th>0</th>\n      <td>1397.0</td>\n      <td>469</td>\n      <td>164.9</td>\n      <td>489.8</td>\n      <td>61898</td>\n      <td>260131</td>\n      <td>11.2</td>\n      <td>499.748204</td>\n      <td>(61494.5, 125635]</td>\n      <td>39.3</td>\n      <td>36.9</td>\n      <td>41.7</td>\n      <td>Kitsap County, Washington</td>\n      <td>2.54</td>\n      <td>52.5</td>\n      <td>11.5</td>\n      <td>39.5</td>\n      <td>42.1</td>\n      <td>6.9</td>\n      <td>23.2</td>\n      <td>19.6</td>\n      <td>51.9</td>\n      <td>8.0</td>\n      <td>75.1</td>\n      <td>NaN</td>\n      <td>41.6</td>\n      <td>32.9</td>\n      <td>14.0</td>\n      <td>81.780529</td>\n      <td>2.594728</td>\n      <td>4.821857</td>\n      <td>1.843479</td>\n      <td>52.856076</td>\n      <td>6.118831</td>\n    </tr>\n    <tr>\n      <th>1</th>\n      <td>173.0</td>\n      <td>70</td>\n      <td>161.3</td>\n      <td>411.6</td>\n      <td>48127</td>\n      <td>43269</td>\n      <td>18.6</td>\n      <td>23.111234</td>\n      <td>(48021.6, 51046.4]</td>\n      <td>33.0</td>\n      <td>32.2</td>\n      <td>33.7</td>\n      <td>Kittitas County, Washington</td>\n      <td>2.34</td>\n      <td>44.5</td>\n      <td>6.1</td>\n      <td>22.4</td>\n      <td>64.0</td>\n      <td>7.5</td>\n      <td>26.0</td>\n      <td>22.7</td>\n      <td>55.9</td>\n      <td>7.8</td>\n      <td>70.2</td>\n      <td>53.8</td>\n      <td>43.6</td>\n      <td>31.1</td>\n      <td>15.3</td>\n      <td>89.228509</td>\n      <td>0.969102</td>\n      <td>2.246233</td>\n      <td>3.741352</td>\n      <td>45.372500</td>\n      <td>4.333096</td>\n    </tr>\n    <tr>\n      <th>2</th>\n      <td>102.0</td>\n      <td>50</td>\n      <td>174.7</td>\n      <td>349.7</td>\n      <td>49348</td>\n      <td>21026</td>\n      <td>14.6</td>\n      <td>47.560164</td>\n      <td>(48021.6, 51046.4]</td>\n      <td>45.0</td>\n      <td>44.0</td>\n      <td>45.8</td>\n      <td>Klickitat County, Washington</td>\n      <td>2.62</td>\n      <td>54.2</td>\n      <td>24.0</td>\n      <td>36.6</td>\n      <td>NaN</td>\n      <td>9.5</td>\n      <td>29.0</td>\n      <td>16.0</td>\n      <td>45.9</td>\n      <td>7.0</td>\n      <td>63.7</td>\n      <td>43.5</td>\n      <td>34.9</td>\n      <td>42.1</td>\n      <td>21.1</td>\n      <td>90.922190</td>\n      <td>0.739673</td>\n      <td>0.465898</td>\n      <td>2.747358</td>\n      <td>54.444868</td>\n      <td>3.729488</td>\n    </tr>\n    <tr>\n      <th>3</th>\n      <td>427.0</td>\n      <td>202</td>\n      <td>194.8</td>\n      <td>430.4</td>\n      <td>44243</td>\n      <td>75882</td>\n      <td>17.1</td>\n      <td>342.637253</td>\n      <td>(42724.4, 45201]</td>\n      <td>42.8</td>\n      <td>42.2</td>\n      <td>43.4</td>\n      <td>Lewis County, Washington</td>\n      <td>2.52</td>\n      <td>52.7</td>\n      <td>20.2</td>\n      <td>41.2</td>\n      <td>36.1</td>\n      <td>2.5</td>\n      <td>31.6</td>\n      <td>9.3</td>\n      <td>48.3</td>\n      <td>12.1</td>\n      <td>58.4</td>\n      <td>40.3</td>\n      <td>35.0</td>\n      <td>45.3</td>\n      <td>25.0</td>\n      <td>91.744686</td>\n      <td>0.782626</td>\n      <td>1.161359</td>\n      <td>1.362643</td>\n      <td>51.021514</td>\n      <td>4.603841</td>\n    </tr>\n    <tr>\n      <th>4</th>\n      <td>57.0</td>\n      <td>26</td>\n      <td>144.4</td>\n      <td>350.1</td>\n      <td>49955</td>\n      <td>10321</td>\n      <td>12.5</td>\n      <td>0.000000</td>\n      <td>(48021.6, 51046.4]</td>\n      <td>48.3</td>\n      <td>47.8</td>\n      <td>48.9</td>\n      <td>Lincoln County, Washington</td>\n      <td>2.34</td>\n      <td>57.8</td>\n      <td>14.9</td>\n      <td>43.0</td>\n      <td>40.0</td>\n      <td>2.0</td>\n      <td>33.4</td>\n      <td>15.0</td>\n      <td>48.2</td>\n      <td>4.8</td>\n      <td>61.6</td>\n      <td>43.9</td>\n      <td>35.1</td>\n      <td>44.0</td>\n      <td>22.7</td>\n      <td>94.104024</td>\n      <td>0.270192</td>\n      <td>0.665830</td>\n      <td>0.492135</td>\n      <td>54.027460</td>\n      <td>6.796657</td>\n    </tr>\n  </tbody>\n</table>\n</div>"
          },
          "metadata": {},
          "execution_count": 4
        }
      ]
    },
    {
      "cell_type": "code",
      "metadata": {
        "colab": {
          "base_uri": "https://localhost:8080/"
        },
        "id": "dzMwgULSt6C-",
        "outputId": "4231affb-a356-48cb-ac94-4307d7fee486"
      },
      "source": [
        "df.isnull().sum()"
      ],
      "id": "dzMwgULSt6C-",
      "execution_count": 5,
      "outputs": [
        {
          "output_type": "execute_result",
          "data": {
            "text/plain": [
              "avgAnnCount                   0\n",
              "avgDeathsPerYear              0\n",
              "TARGET_deathRate              0\n",
              "incidenceRate                 0\n",
              "medIncome                     0\n",
              "popEst2015                    0\n",
              "povertyPercent                0\n",
              "studyPerCap                   0\n",
              "binnedInc                     0\n",
              "MedianAge                     0\n",
              "MedianAgeMale                 0\n",
              "MedianAgeFemale               0\n",
              "Geography                     0\n",
              "AvgHouseholdSize              0\n",
              "PercentMarried                0\n",
              "PctNoHS18_24                  0\n",
              "PctHS18_24                    0\n",
              "PctSomeCol18_24            2285\n",
              "PctBachDeg18_24               0\n",
              "PctHS25_Over                  0\n",
              "PctBachDeg25_Over             0\n",
              "PctEmployed16_Over          152\n",
              "PctUnemployed16_Over          0\n",
              "PctPrivateCoverage            0\n",
              "PctPrivateCoverageAlone     609\n",
              "PctEmpPrivCoverage            0\n",
              "PctPublicCoverage             0\n",
              "PctPublicCoverageAlone        0\n",
              "PctWhite                      0\n",
              "PctBlack                      0\n",
              "PctAsian                      0\n",
              "PctOtherRace                  0\n",
              "PctMarriedHouseholds          0\n",
              "BirthRate                     0\n",
              "dtype: int64"
            ]
          },
          "metadata": {},
          "execution_count": 5
        }
      ]
    },
    {
      "cell_type": "code",
      "metadata": {
        "colab": {
          "base_uri": "https://localhost:8080/"
        },
        "id": "cmB6TIE8AH6Z",
        "outputId": "122cbb5e-6d6b-4aff-89ee-2a60c67e3ba4"
      },
      "source": [
        "df.info()"
      ],
      "id": "cmB6TIE8AH6Z",
      "execution_count": 6,
      "outputs": [
        {
          "output_type": "stream",
          "name": "stdout",
          "text": [
            "<class 'pandas.core.frame.DataFrame'>\nRangeIndex: 3047 entries, 0 to 3046\nData columns (total 34 columns):\n #   Column                   Non-Null Count  Dtype  \n---  ------                   --------------  -----  \n 0   avgAnnCount              3047 non-null   float64\n 1   avgDeathsPerYear         3047 non-null   int64  \n 2   TARGET_deathRate         3047 non-null   float64\n 3   incidenceRate            3047 non-null   float64\n 4   medIncome                3047 non-null   int64  \n 5   popEst2015               3047 non-null   int64  \n 6   povertyPercent           3047 non-null   float64\n 7   studyPerCap              3047 non-null   float64\n 8   binnedInc                3047 non-null   object \n 9   MedianAge                3047 non-null   float64\n 10  MedianAgeMale            3047 non-null   float64\n 11  MedianAgeFemale          3047 non-null   float64\n 12  Geography                3047 non-null   object \n 13  AvgHouseholdSize         3047 non-null   float64\n 14  PercentMarried           3047 non-null   float64\n 15  PctNoHS18_24             3047 non-null   float64\n 16  PctHS18_24               3047 non-null   float64\n 17  PctSomeCol18_24          762 non-null    float64\n 18  PctBachDeg18_24          3047 non-null   float64\n 19  PctHS25_Over             3047 non-null   float64\n 20  PctBachDeg25_Over        3047 non-null   float64\n 21  PctEmployed16_Over       2895 non-null   float64\n 22  PctUnemployed16_Over     3047 non-null   float64\n 23  PctPrivateCoverage       3047 non-null   float64\n 24  PctPrivateCoverageAlone  2438 non-null   float64\n 25  PctEmpPrivCoverage       3047 non-null   float64\n 26  PctPublicCoverage        3047 non-null   float64\n 27  PctPublicCoverageAlone   3047 non-null   float64\n 28  PctWhite                 3047 non-null   float64\n 29  PctBlack                 3047 non-null   float64\n 30  PctAsian                 3047 non-null   float64\n 31  PctOtherRace             3047 non-null   float64\n 32  PctMarriedHouseholds     3047 non-null   float64\n 33  BirthRate                3047 non-null   float64\ndtypes: float64(29), int64(3), object(2)\nmemory usage: 809.5+ KB\n"
          ]
        }
      ]
    },
    {
      "cell_type": "code",
      "metadata": {
        "id": "8lsRAGf9syyJ"
      },
      "source": [
        "from sklearn.preprocessing import StandardScaler\n",
        "\n",
        "y = df['TARGET_deathRate']\n",
        "X_full = df.drop(['TARGET_deathRate'], axis=1)\n",
        "\n",
        "categorical_cols = [cname for cname in X_full.columns if\n",
        "                    X_full[cname].nunique() < 11 and \n",
        "                    X_full[cname].dtype == \"object\"]\n",
        "\n",
        "\n",
        "numerical_cols = [cname for cname in X_full.columns if \n",
        "                X_full[cname].dtype in ['int64', 'float64']]\n",
        "\n",
        "\n",
        "my_cols = categorical_cols + numerical_cols\n",
        "X = X_full[my_cols].copy()\n",
        "scaler = StandardScaler()\n",
        "# X_std = scaler.fit_transform(X)\n",
        "y_std = scaler.fit_transform(y.values.reshape(-1, 1))\n",
        "\n"
      ],
      "id": "8lsRAGf9syyJ",
      "execution_count": 7,
      "outputs": []
    },
    {
      "cell_type": "code",
      "metadata": {
        "colab": {
          "base_uri": "https://localhost:8080/"
        },
        "id": "hsXTAgK7O_CU",
        "outputId": "8ced6a5c-2e1b-40e2-c5fe-5041f9fde9da"
      },
      "source": [
        "from sklearn.preprocessing import StandardScaler\n",
        "from sklearn.compose import ColumnTransformer\n",
        "from sklearn.pipeline import Pipeline\n",
        "from sklearn.impute import SimpleImputer\n",
        "from sklearn.preprocessing import OneHotEncoder\n",
        "\n",
        "\n",
        "numerical_transformer = Pipeline(steps=[\n",
        "    ('imputer', SimpleImputer()),\n",
        "    ('scaler', StandardScaler())\n",
        "])\n",
        "\n",
        "categorical_transformer = OneHotEncoder(handle_unknown=\"ignore\")\n",
        "\n",
        "preprocessor = ColumnTransformer(\n",
        "    transformers=[\n",
        "        ('num', numerical_transformer, numerical_cols),\n",
        "        ('cat', categorical_transformer, categorical_cols)\n",
        "    ]\n",
        ")"
      ],
      "id": "hsXTAgK7O_CU",
      "execution_count": 8,
      "outputs": []
    },
    {
      "cell_type": "code",
      "metadata": {
        "id": "yGm1c3FF8kbk"
      },
      "source": [
        "from xgboost import XGBRegressor\n",
        "from lightgbm import LGBMRegressor\n",
        "\n",
        "xbg = XGBRegressor()\n",
        "lgb = LGBMRegressor()"
      ],
      "id": "yGm1c3FF8kbk",
      "execution_count": 9,
      "outputs": []
    },
    {
      "cell_type": "code",
      "execution_count": 10,
      "metadata": {},
      "outputs": [],
      "source": [
        "xbg_pipeline = Pipeline(steps=[\n",
        "    ('preprocessor', preprocessor),\n",
        "    ('xbg', xbg)\n",
        "])\n",
        "\n",
        "lbg_pipepline = Pipeline(steps=[\n",
        "    ('preprocessor', preprocessor),\n",
        "    ('lgb', lgb)\n",
        "])"
      ]
    },
    {
      "cell_type": "markdown",
      "metadata": {
        "id": "be1faec2"
      },
      "source": [
        "CVEの評価には以下のコードを利用してください．"
      ],
      "id": "be1faec2"
    },
    {
      "cell_type": "code",
      "metadata": {
        "colab": {
          "base_uri": "https://localhost:8080/"
        },
        "id": "8fe3d204",
        "outputId": "d2bc8ba9-9702-4db8-95a4-92c83929ec49"
      },
      "source": [
        "# XGBoobs model\n",
        "# CVE評価用コード\n",
        "from sklearn.metrics import make_scorer\n",
        "from sklearn.model_selection import cross_val_score\n",
        "from sklearn.metrics import mean_squared_error\n",
        "cross_val_score(xbg_pipeline, X, y_std,cv=5,scoring=make_scorer(mean_squared_error))\n",
        "                                                                                                                                      "
      ],
      "id": "8fe3d204",
      "execution_count": 11,
      "outputs": [
        {
          "output_type": "execute_result",
          "data": {
            "text/plain": [
              "array([0.3968138 , 0.39338071, 0.42960428, 0.35893295, 0.49485656])"
            ]
          },
          "metadata": {},
          "execution_count": 11
        }
      ]
    },
    {
      "cell_type": "code",
      "execution_count": 12,
      "metadata": {},
      "outputs": [
        {
          "output_type": "execute_result",
          "data": {
            "text/plain": [
              "array([0.32322967, 0.31606956, 0.37975679, 0.31526992, 0.4396949 ])"
            ]
          },
          "metadata": {},
          "execution_count": 12
        }
      ],
      "source": [
        "# LightBGM model\n",
        "# CVE評価用コード\n",
        "from sklearn.metrics import make_scorer\n",
        "from sklearn.model_selection import cross_val_score\n",
        "from sklearn.metrics import mean_squared_error\n",
        "cross_val_score(lbg_pipepline, X, y_std,cv=5,scoring=make_scorer(mean_squared_error))"
      ]
    },
    {
      "cell_type": "markdown",
      "metadata": {
        "id": "JYhBkbRyhtmi"
      },
      "source": [
        "\n",
        "\n",
        "```\n",
        "　結果 0.38 < CVE < 0.499\n",
        "```\n",
        "検証結果によるとCVEが目標の「CVE<0.5」に下回ることに成功し、このタスクは技術的に可能と答えられます。\n",
        "\n"
      ],
      "id": "JYhBkbRyhtmi"
    }
  ]
}